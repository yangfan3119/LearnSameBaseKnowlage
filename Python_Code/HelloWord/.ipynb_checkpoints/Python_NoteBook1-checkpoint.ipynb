{
 "cells": [
  {
   "cell_type": "code",
   "execution_count": 6,
   "metadata": {},
   "outputs": [
    {
     "data": {
      "text/plain": [
       "'\\t\\na = Student(\"Job\",76)\\na.age = 8\\na.print_score()\\nprint(a.age)\\nprint(a)\\n'"
      ]
     },
     "execution_count": 6,
     "metadata": {},
     "output_type": "execute_result"
    }
   ],
   "source": [
    "# %load Python_base2.py\n",
    "\n",
    "\n",
    "def _odd_iter():\n",
    "\tn = 1\n",
    "\twhile True:\n",
    "\t\tn = n+2\n",
    "\t\tyield n\n",
    "\t\t\n",
    "def _not_divisble(n):\n",
    "\treturn lambda x:x % n > 0\n",
    "\n",
    "def premit():\n",
    "\tyield 2\n",
    "\tit = _odd_iter()\n",
    "\twhile True:\n",
    "\t\tn = next(it)\n",
    "\t\tyield n\n",
    "\t\tit = filter(_not_divisble(n), it)\n",
    "'''\n",
    "m = 0\n",
    "for n in premit():\n",
    "\tif(n<=2018/2):\n",
    "\t\tm += 1\n",
    "\t\tprint(n)\n",
    "\telse:\n",
    "\t\tbreak\n",
    "print(\"All num counts=\",m)\n",
    "'''\n",
    "def is_palindrome(n):\n",
    "\ts = str(n)\n",
    "\tns = len(s)\n",
    "\tfor i in range(0,ns):\n",
    "\t\tif(s[i]!=s[ns-i-1]):\n",
    "\t\t\treturn False\n",
    "\treturn True\n",
    "'''\n",
    "output = filter(is_palindrome, range(1, 1000))\n",
    "print('1~1000:', list(output))\n",
    "\n",
    "sorted(['bob', 'about', 'Zoo', 'Credit'], key=str.lower, reverse=True)\n",
    "['Zoo', 'Credit', 'bob', 'about']\n",
    "'''\n",
    "\n",
    "L = [('Bob', 75), ('Adam', 92), ('Bart', 66), ('Lisa', 88)]\n",
    "\n",
    "def by_name(t):\n",
    "\treturn t[1]\n",
    "'''\n",
    "L2 = sorted(L,key=by_name, reverse=True)\n",
    "print(L2)\n",
    "'''\n",
    "\n",
    "def CreateCounter():\n",
    "\tn = 0\n",
    "\tdef Counter():\n",
    "\t\tn = n + 1\n",
    "\t\tdef Adds():\n",
    "\t\t\treturn n\n",
    "\t\treturn Adds\n",
    "\treturn Counter()\n",
    "\n",
    "'''\n",
    "counterA = CreateCounter()\n",
    "print(counterA(), counterA(), counterA(), counterA(), counterA()) # 1 2 3 4 5\n",
    "counterB = CreateCounter()\n",
    "if [counterB(), counterB(), counterB(), counterB()] == [1, 2, 3, 4]:\n",
    "    print('测试通过!')\n",
    "else:\n",
    "    print('测试失败!')\n",
    "\n",
    "n = 3\n",
    "L = list(filter(lambda x:x%n>0, range(1,20)))\n",
    "print(L)\n",
    "'''\n",
    "\n",
    "import time,functools\n",
    "\n",
    "def ShowTime():\n",
    "\treturn (time.strftime(\"%Y-%m-%d %H:%M:%S\", time.localtime()))\n",
    "\t\n",
    "def log(func):\n",
    "\t@functools.wraps(func)\n",
    "\tdef wrapper(*args, **kw):\n",
    "\t\tprint(\"B %s  %s\"%(func.__name__,ShowTime()))\n",
    "\t\tres = func(*args, **kw)\n",
    "\t\tprint(\"E %s  %s\"%(func.__name__,ShowTime()))\n",
    "\t\treturn res\n",
    "\treturn wrapper\n",
    "\n",
    "@log\n",
    "def fast(x, y):\n",
    "    time.sleep(2)\n",
    "    return x + y;\n",
    "\t\t\n",
    "@log\n",
    "def slow(x, y, z):\n",
    "    time.sleep(4)\n",
    "    return x * y * z;\n",
    "\n",
    "'''\n",
    "s = slow(11,22,33)\n",
    "f = fast(11,22)\n",
    "'''\n",
    "#print(f,s,ShowTime())\n",
    "#print(fast.__name__,slow.__name__)\n",
    "def Beishu(n):\n",
    "\tL = []\n",
    "\tfor i in range(1,2018):\n",
    "\t\tif i*n <= 2018:\n",
    "\t\t\tL.append(i*n)\n",
    "\t\telse:\n",
    "\t\t\tbreak\n",
    "\treturn L\n",
    "\t\t\t\n",
    "def DeleSome(L):\n",
    "\tLx = L\n",
    "\tfor i in range(0,len(L)-1):\n",
    "\t\tfor y in L[i:]:\n",
    "\t\t\tif(L[i]!=y) and (y%L[i]==0):\n",
    "\t\t\t\tLx[i] = 0\n",
    "\t\t\t\tbreak\n",
    "\tLy = []\n",
    "\tfor x in Lx:\n",
    "\t\tif x!=0:\n",
    "\t\t\tLy.append(x)\n",
    "\treturn Ly\n",
    "'''\n",
    "i = 5\n",
    "while(i > 0):\n",
    "\ti -= 1\n",
    "\tx = int(input(\"最小公约数：\"))\n",
    "\tL = Beishu(2)\n",
    "\tprint('相同公约数的最多值',len(L),'\\n',L[:5],'...',L[-5:])\n",
    "\tLx = DeleSome(L)\n",
    "\tprint('去掉可以整除的倍数',len(Lx),'\\n',Lx[:5],'...',Lx[-5:])\n",
    "\tprint('=================\\n')\n",
    "'''\n",
    "\n",
    "class Student(object):\n",
    "\tdef __init__(self,name,score):\n",
    "\t\tself.name = name\n",
    "\t\tself.score = score\n",
    "\t\n",
    "\tdef print_score(self):\n",
    "\t\tprint(\"%s: %d\"%(self.name,self.score))\n",
    "\n",
    "'''\t\n",
    "a = Student(\"Job\",76)\n",
    "a.age = 8\n",
    "a.print_score()\n",
    "print(a.age)\n",
    "print(a)\n",
    "'''"
   ]
  },
  {
   "cell_type": "code",
   "execution_count": 7,
   "metadata": {},
   "outputs": [
    {
     "data": {
      "text/plain": [
       "__main__.Student"
      ]
     },
     "execution_count": 7,
     "metadata": {},
     "output_type": "execute_result"
    }
   ],
   "source": [
    "Student"
   ]
  },
  {
   "cell_type": "code",
   "execution_count": 8,
   "metadata": {},
   "outputs": [
    {
     "data": {
      "text/plain": [
       "'2018-03-15 16:17:59'"
      ]
     },
     "execution_count": 8,
     "metadata": {},
     "output_type": "execute_result"
    }
   ],
   "source": [
    "ShowTime()"
   ]
  },
  {
   "cell_type": "code",
   "execution_count": 2,
   "metadata": {},
   "outputs": [],
   "source": [
    "class Screen(object):\n",
    "    \n",
    "    @property\n",
    "    def width(self):\n",
    "        return self._width\n",
    "    \n",
    "    @width.setter\n",
    "    def width(self,wid):\n",
    "        if(wid>0):\n",
    "            self._width = wid\n",
    "        else:\n",
    "            raise ValueError('width input error,must width>0')\n",
    "    \n",
    "    @property\n",
    "    def heigh(self):\n",
    "        return self._heigh\n",
    "    \n",
    "    @heigh.setter\n",
    "    def heigh(self,hei):\n",
    "        if(hei>0):\n",
    "            self._heigh = hei\n",
    "        else:\n",
    "            raise ValueError('heigh input error,must heigh>0')\n",
    "    \n",
    "    @property\n",
    "    def resolution(self):\n",
    "        return self._width*self._heigh\n"
   ]
  },
  {
   "cell_type": "code",
   "execution_count": 8,
   "metadata": {},
   "outputs": [
    {
     "name": "stdout",
     "output_type": "stream",
     "text": [
      "1024 768\n",
      "resolution =  786432\n"
     ]
    },
    {
     "ename": "ValueError",
     "evalue": "width input error,must width>0",
     "output_type": "error",
     "traceback": [
      "\u001b[1;31m---------------------------------------------------------------------------\u001b[0m",
      "\u001b[1;31mValueError\u001b[0m                                Traceback (most recent call last)",
      "\u001b[1;32m<ipython-input-8-96dcb0c57bc2>\u001b[0m in \u001b[0;36m<module>\u001b[1;34m()\u001b[0m\n\u001b[0;32m      5\u001b[0m \u001b[0mprint\u001b[0m\u001b[1;33m(\u001b[0m\u001b[1;34m'resolution = '\u001b[0m\u001b[1;33m,\u001b[0m\u001b[0miphone\u001b[0m\u001b[1;33m.\u001b[0m\u001b[0mresolution\u001b[0m\u001b[1;33m)\u001b[0m\u001b[1;33m\u001b[0m\u001b[0m\n\u001b[0;32m      6\u001b[0m \u001b[1;33m\u001b[0m\u001b[0m\n\u001b[1;32m----> 7\u001b[1;33m \u001b[0miphone\u001b[0m\u001b[1;33m.\u001b[0m\u001b[0mwidth\u001b[0m \u001b[1;33m=\u001b[0m \u001b[1;33m-\u001b[0m\u001b[1;36m1\u001b[0m\u001b[1;33m\u001b[0m\u001b[0m\n\u001b[0m",
      "\u001b[1;32m<ipython-input-2-c94040fa31d6>\u001b[0m in \u001b[0;36mwidth\u001b[1;34m(self, wid)\u001b[0m\n\u001b[0;32m     10\u001b[0m             \u001b[0mself\u001b[0m\u001b[1;33m.\u001b[0m\u001b[0m_width\u001b[0m \u001b[1;33m=\u001b[0m \u001b[0mwid\u001b[0m\u001b[1;33m\u001b[0m\u001b[0m\n\u001b[0;32m     11\u001b[0m         \u001b[1;32melse\u001b[0m\u001b[1;33m:\u001b[0m\u001b[1;33m\u001b[0m\u001b[0m\n\u001b[1;32m---> 12\u001b[1;33m             \u001b[1;32mraise\u001b[0m \u001b[0mValueError\u001b[0m\u001b[1;33m(\u001b[0m\u001b[1;34m'width input error,must width>0'\u001b[0m\u001b[1;33m)\u001b[0m\u001b[1;33m\u001b[0m\u001b[0m\n\u001b[0m\u001b[0;32m     13\u001b[0m \u001b[1;33m\u001b[0m\u001b[0m\n\u001b[0;32m     14\u001b[0m     \u001b[1;33m@\u001b[0m\u001b[0mproperty\u001b[0m\u001b[1;33m\u001b[0m\u001b[0m\n",
      "\u001b[1;31mValueError\u001b[0m: width input error,must width>0"
     ]
    }
   ],
   "source": [
    "iphone = Screen()\n",
    "iphone.width = 1024\n",
    "iphone.heigh = 768\n",
    "print(iphone.width,iphone.heigh)\n",
    "print('resolution = ',iphone.resolution)\n",
    "\n",
    "iphone.width = -1"
   ]
  },
  {
   "cell_type": "code",
   "execution_count": 5,
   "metadata": {},
   "outputs": [
    {
     "data": {
      "text/plain": [
       "__main__.Screen"
      ]
     },
     "execution_count": 5,
     "metadata": {},
     "output_type": "execute_result"
    }
   ],
   "source": [
    "type(Screen())"
   ]
  },
  {
   "cell_type": "code",
   "execution_count": 15,
   "metadata": {},
   "outputs": [
    {
     "data": {
      "text/plain": [
       "True"
      ]
     },
     "execution_count": 15,
     "metadata": {},
     "output_type": "execute_result"
    }
   ],
   "source": [
    " from collections import Iterable\n",
    "isinstance('123', Iterable)"
   ]
  },
  {
   "cell_type": "code",
   "execution_count": 33,
   "metadata": {},
   "outputs": [],
   "source": [
    "class Fib(object):\n",
    "    def __init__(self):\n",
    "        self.__a,self.__b = 0,1\n",
    "        \n",
    "    def __iter__(self):\n",
    "        return self\n",
    "    \n",
    "    def __next__(self):\n",
    "        self.__a,self.__b =self.__b, self.__a+self.__b, \n",
    "        if self.__a>100:\n",
    "            raise StopIteration()\n",
    "        else:\n",
    "            return self.__a\n",
    "    \n",
    "    def __getitem__(self,n):\n",
    "        a,b = 0,1\n",
    "        for x in range(n):\n",
    "            a, b = b, a + b\n",
    "        return a\n",
    "    \n",
    "    def __call__(self,n):\n",
    "        a,b = 0,1\n",
    "        for x in range(n):\n",
    "            a, b = b, a + b\n",
    "        return a"
   ]
  },
  {
   "cell_type": "code",
   "execution_count": 34,
   "metadata": {},
   "outputs": [
    {
     "data": {
      "text/plain": [
       "False"
      ]
     },
     "execution_count": 34,
     "metadata": {},
     "output_type": "execute_result"
    }
   ],
   "source": [
    "isinstance(Fib.__iter__,Iterable)"
   ]
  },
  {
   "cell_type": "code",
   "execution_count": 35,
   "metadata": {},
   "outputs": [
    {
     "name": "stdout",
     "output_type": "stream",
     "text": [
      "1\n",
      "1\n",
      "2\n",
      "3\n",
      "5\n",
      "8\n",
      "13\n",
      "21\n",
      "34\n",
      "55\n",
      "89\n"
     ]
    }
   ],
   "source": [
    "i = 0\n",
    "for n in Fib():\n",
    "    print(n)\n",
    "    i+=1\n",
    "    if(i>10):\n",
    "        break"
   ]
  },
  {
   "cell_type": "code",
   "execution_count": 39,
   "metadata": {},
   "outputs": [
    {
     "name": "stdout",
     "output_type": "stream",
     "text": [
      "__getitem__测试： 610\n",
      "__cal__测试： 610\n"
     ]
    }
   ],
   "source": [
    "print('__getitem__测试：',Fib()[15])\n",
    "x = Fib()\n",
    "print('__cal__测试：',x(15))"
   ]
  },
  {
   "cell_type": "code",
   "execution_count": 45,
   "metadata": {},
   "outputs": [],
   "source": [
    "from enum import Enum as em, unique\n",
    "\n",
    "Month = em('Mh', ('Jan', 'Feb', 'Mar', 'Apr', 'May', 'Jun', 'Jul', 'Aug', 'Sep', 'Oct', 'Nov', 'Dec'))"
   ]
  },
  {
   "cell_type": "code",
   "execution_count": 46,
   "metadata": {},
   "outputs": [
    {
     "name": "stdout",
     "output_type": "stream",
     "text": [
      "Jan => Mh.Jan , 1\n",
      "Feb => Mh.Feb , 2\n",
      "Mar => Mh.Mar , 3\n",
      "Apr => Mh.Apr , 4\n",
      "May => Mh.May , 5\n",
      "Jun => Mh.Jun , 6\n",
      "Jul => Mh.Jul , 7\n",
      "Aug => Mh.Aug , 8\n",
      "Sep => Mh.Sep , 9\n",
      "Oct => Mh.Oct , 10\n",
      "Nov => Mh.Nov , 11\n",
      "Dec => Mh.Dec , 12\n"
     ]
    }
   ],
   "source": [
    "for name, member in Month.__members__.items():\n",
    "    print(name, '=>', member, ',', member.value)"
   ]
  },
  {
   "cell_type": "code",
   "execution_count": 49,
   "metadata": {},
   "outputs": [],
   "source": [
    "@unique\n",
    "class Gender(em):\n",
    "    Male = 0\n",
    "    Female = 1\n",
    "    Unknow = 2\n",
    "\n",
    "class Student_em(object):\n",
    "    def __init__(self,name,gender):\n",
    "        self.name = name\n",
    "        if isinstance(gender,Gender):\n",
    "            self.gender = gender\n",
    "        else:\n",
    "            self.gender = Gender.Unknow"
   ]
  },
  {
   "cell_type": "code",
   "execution_count": 51,
   "metadata": {},
   "outputs": [
    {
     "name": "stdout",
     "output_type": "stream",
     "text": [
      "测试通过!\n"
     ]
    }
   ],
   "source": [
    "bart = Student_em('Bart', Gender.Male)\n",
    "if bart.gender == Gender.Male:\n",
    "    print('测试通过!')\n",
    "else:\n",
    "    print('测试失败!')"
   ]
  },
  {
   "cell_type": "code",
   "execution_count": 32,
   "metadata": {},
   "outputs": [],
   "source": [
    "class Day65(object):\n",
    "    \n",
    "    def __init__(self):\n",
    "        self.N = 100000000\n",
    "        self.Lx, self.L_x = self.xPow2()\n",
    "        \n",
    "    def xPow2(self):\n",
    "        L = []\n",
    "        L_ = []\n",
    "        for i in range(self.N):\n",
    "            t = i*i;\n",
    "            if t > self.N:\n",
    "                break\n",
    "            else:\n",
    "                L.append(t)\n",
    "                L_.append(i)\n",
    "        return L,L_\n",
    "    \n",
    "    def GetARes(self,a):\n",
    "        if (a-13<=0) or (a+13>self.N):\n",
    "            return 0,0\n",
    "        else:\n",
    "            return a-13,a+13\n",
    "    \n",
    "    def GetBRes(self,a1,a2):\n",
    "        Lb = []\n",
    "        Lb_x = []\n",
    "        for pow2x in self.Lx:\n",
    "            if(pow2x%a2==0):\n",
    "                b = pow2x//a2\n",
    "                x1 = a1*b\n",
    "                if(x1 in self.Lx):\n",
    "                    Lb.append(b)\n",
    "                    xi = self.L_x[self.Lx.index(x1)]\n",
    "                    xi_ = self.L_x[self.Lx.index(pow2x)]\n",
    "                    Lb_x.append([xi,xi_])\n",
    "                    break\n",
    "        return Lb, Lb_x\n",
    "    \n",
    "    def GetBRes_new1(self):\n",
    "        ax = []\n",
    "        for i in range(len(self.Lx)):\n",
    "            for j in range(i+1,len(self.Lx)):\n",
    "                t = self.Lx[j]-self.Lx[i]\n",
    "                if(t%26==0):\n",
    "                    b = t/26\n",
    "                    if(self.Lx[j]%b==0) and (self.Lx[i]%b==0):\n",
    "                        a = (self.Lx[j]+ self.Lx[i])/(2*b)\n",
    "                        if a not in ax:\n",
    "                            print('b = ',t/26,'Lx1 = ',self.Lx[j],self.Lx[i],'  a = ',a)\n",
    "                            ax.append(a)\n",
    "                    \n",
    "        "
   ]
  },
  {
   "cell_type": "code",
   "execution_count": 12,
   "metadata": {},
   "outputs": [
    {
     "name": "stdout",
     "output_type": "stream",
     "text": [
      "1000\n",
      "可能值有：a = 85 (85-13=72)*2 = (12)^2    (85+13=98)*2 = (14)^2\n"
     ]
    }
   ],
   "source": [
    "dx = Day65()\n",
    "print(len(dx.Lx))\n",
    "for a in range(dx.N):\n",
    "    a1, a2 = dx.GetARes(a)\n",
    "    if(a1==0)or(a2==0):\n",
    "        continue\n",
    "    else:\n",
    "        Lb,Lb_ = dx.GetBRes(a1,a2)\n",
    "        if len(Lb) > 0:\n",
    "            print('可能值有：a = %d'%a,'(%d-13=%d)*%d = (%d)^2   '%(a,a1,Lb[0],Lb_[0][0]), '(%d+13=%d)*%d = (%d)^2'%(a,a2,Lb[0],Lb_[0][1])) "
   ]
  },
  {
   "cell_type": "code",
   "execution_count": 6,
   "metadata": {},
   "outputs": [
    {
     "name": "stdout",
     "output_type": "stream",
     "text": [
      "False\n"
     ]
    }
   ],
   "source": [
    "L = [4,5,6,7,8]\n",
    "print(1 in L)"
   ]
  },
  {
   "cell_type": "code",
   "execution_count": 33,
   "metadata": {},
   "outputs": [
    {
     "name": "stdout",
     "output_type": "stream",
     "text": [
      "10001\n",
      "b =  26.0 Lx1 =  676 0   a =  13.0\n",
      "b =  2.0 Lx1 =  196 144   a =  85.0\n"
     ]
    }
   ],
   "source": [
    "dx = Day65()\n",
    "print(len(dx.Lx))\n",
    "dx.GetBRes_new1()"
   ]
  },
  {
   "cell_type": "code",
   "execution_count": 59,
   "metadata": {},
   "outputs": [],
   "source": [
    "def BF(x):\n",
    "    t = str(format(x,'b'))\n",
    "    tx = ''\n",
    "    rang = list(range(len(t)))\n",
    "    for i in rang[::-1]:\n",
    "        tx = t[i]+tx\n",
    "        if(i%4==0):\n",
    "            tx =  ' '+tx\n",
    "    print(x,'\\t',tx)"
   ]
  },
  {
   "cell_type": "code",
   "execution_count": 60,
   "metadata": {},
   "outputs": [
    {
     "name": "stdout",
     "output_type": "stream",
     "text": [
      "3000 \t  1011 1011 1000\n",
      "2776 \t  1010 1101 1000\n",
      "3384 \t  1101 0011 1000\n",
      "2616 \t  1010 0011 1000\n"
     ]
    }
   ],
   "source": [
    "BF(3000)\n",
    "BF(2776)\n",
    "BF(3384)\n",
    "BF(2616)"
   ]
  },
  {
   "cell_type": "code",
   "execution_count": 61,
   "metadata": {},
   "outputs": [
    {
     "name": "stdout",
     "output_type": "stream",
     "text": [
      "3864 \t  1111 0001 1000\n",
      "3857 \t  1111 0001 0001\n",
      "3858 \t  1111 0001 0010\n"
     ]
    }
   ],
   "source": [
    "BF(3864)\n",
    "BF(3857)\n",
    "BF(3858)"
   ]
  },
  {
   "cell_type": "code",
   "execution_count": 65,
   "metadata": {},
   "outputs": [
    {
     "name": "stdout",
     "output_type": "stream",
     "text": [
      "3832 \t  1110 1111 1000\n",
      "3825 \t  1110 1111 0001\n",
      "3828 \t  1110 1111 0100\n"
     ]
    }
   ],
   "source": [
    "BF(3832)\n",
    "BF(3825)\n",
    "BF(3828)"
   ]
  },
  {
   "cell_type": "code",
   "execution_count": 63,
   "metadata": {},
   "outputs": [
    {
     "name": "stdout",
     "output_type": "stream",
     "text": [
      "654321\n"
     ]
    }
   ],
   "source": [
    "s = '123456'\n",
    "print(s[::-1])"
   ]
  },
  {
   "cell_type": "code",
   "execution_count": 71,
   "metadata": {
    "collapsed": true
   },
   "outputs": [],
   "source": [
    "def DivisionMethod(m,n):\n",
    "    try:\n",
    "        y = m//n\n",
    "    except:\n",
    "        print('Error Divisor')\n",
    "    finally:#一定会被执行\n",
    "        print('%d/%d = %d'%(m,n,y))\n",
    "    return y"
   ]
  },
  {
   "cell_type": "code",
   "execution_count": 72,
   "metadata": {},
   "outputs": [
    {
     "name": "stdout",
     "output_type": "stream",
     "text": [
      "10/2 = 5\n",
      "5\n"
     ]
    }
   ],
   "source": [
    "print(DivisionMethod(10,2))"
   ]
  },
  {
   "cell_type": "code",
   "execution_count": null,
   "metadata": {
    "collapsed": true
   },
   "outputs": [],
   "source": []
  }
 ],
 "metadata": {
  "kernelspec": {
   "display_name": "Python 3",
   "language": "python",
   "name": "python3"
  },
  "language_info": {
   "codemirror_mode": {
    "name": "ipython",
    "version": 3
   },
   "file_extension": ".py",
   "mimetype": "text/x-python",
   "name": "python",
   "nbconvert_exporter": "python",
   "pygments_lexer": "ipython3",
   "version": "3.6.2"
  }
 },
 "nbformat": 4,
 "nbformat_minor": 2
}
